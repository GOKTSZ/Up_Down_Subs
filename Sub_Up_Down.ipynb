{
 "cells": [
  {
   "cell_type": "code",
   "execution_count": 34,
   "id": "8677e2cf",
   "metadata": {
    "scrolled": true
   },
   "outputs": [
    {
     "name": "stdout",
     "output_type": "stream",
     "text": [
      "Requirement already satisfied: pandas in ./anaconda3/lib/python3.11/site-packages (1.5.3)\n",
      "Requirement already satisfied: ipywidgets in ./anaconda3/lib/python3.11/site-packages (8.0.4)\n",
      "Requirement already satisfied: python-dateutil>=2.8.1 in ./anaconda3/lib/python3.11/site-packages (from pandas) (2.8.2)\n",
      "Requirement already satisfied: pytz>=2020.1 in ./anaconda3/lib/python3.11/site-packages (from pandas) (2022.7)\n",
      "Requirement already satisfied: numpy>=1.21.0 in ./anaconda3/lib/python3.11/site-packages (from pandas) (1.24.3)\n",
      "Requirement already satisfied: ipykernel>=4.5.1 in ./anaconda3/lib/python3.11/site-packages (from ipywidgets) (6.19.2)\n",
      "Requirement already satisfied: ipython>=6.1.0 in ./anaconda3/lib/python3.11/site-packages (from ipywidgets) (8.12.0)\n",
      "Requirement already satisfied: traitlets>=4.3.1 in ./anaconda3/lib/python3.11/site-packages (from ipywidgets) (5.7.1)\n",
      "Requirement already satisfied: widgetsnbextension~=4.0 in ./anaconda3/lib/python3.11/site-packages (from ipywidgets) (4.0.5)\n",
      "Requirement already satisfied: jupyterlab-widgets~=3.0 in ./anaconda3/lib/python3.11/site-packages (from ipywidgets) (3.0.5)\n",
      "Requirement already satisfied: appnope in ./anaconda3/lib/python3.11/site-packages (from ipykernel>=4.5.1->ipywidgets) (0.1.2)\n",
      "Requirement already satisfied: comm>=0.1.1 in ./anaconda3/lib/python3.11/site-packages (from ipykernel>=4.5.1->ipywidgets) (0.1.2)\n",
      "Requirement already satisfied: debugpy>=1.0 in ./anaconda3/lib/python3.11/site-packages (from ipykernel>=4.5.1->ipywidgets) (1.6.7)\n",
      "Requirement already satisfied: jupyter-client>=6.1.12 in ./anaconda3/lib/python3.11/site-packages (from ipykernel>=4.5.1->ipywidgets) (7.4.9)\n",
      "Requirement already satisfied: matplotlib-inline>=0.1 in ./anaconda3/lib/python3.11/site-packages (from ipykernel>=4.5.1->ipywidgets) (0.1.6)\n",
      "Requirement already satisfied: nest-asyncio in ./anaconda3/lib/python3.11/site-packages (from ipykernel>=4.5.1->ipywidgets) (1.5.6)\n",
      "Requirement already satisfied: packaging in ./anaconda3/lib/python3.11/site-packages (from ipykernel>=4.5.1->ipywidgets) (23.0)\n",
      "Requirement already satisfied: psutil in ./anaconda3/lib/python3.11/site-packages (from ipykernel>=4.5.1->ipywidgets) (5.9.0)\n",
      "Requirement already satisfied: pyzmq>=17 in ./anaconda3/lib/python3.11/site-packages (from ipykernel>=4.5.1->ipywidgets) (23.2.0)\n",
      "Requirement already satisfied: tornado>=6.1 in ./anaconda3/lib/python3.11/site-packages (from ipykernel>=4.5.1->ipywidgets) (6.3.2)\n",
      "Requirement already satisfied: backcall in ./anaconda3/lib/python3.11/site-packages (from ipython>=6.1.0->ipywidgets) (0.2.0)\n",
      "Requirement already satisfied: decorator in ./anaconda3/lib/python3.11/site-packages (from ipython>=6.1.0->ipywidgets) (5.1.1)\n",
      "Requirement already satisfied: jedi>=0.16 in ./anaconda3/lib/python3.11/site-packages (from ipython>=6.1.0->ipywidgets) (0.18.1)\n",
      "Requirement already satisfied: pickleshare in ./anaconda3/lib/python3.11/site-packages (from ipython>=6.1.0->ipywidgets) (0.7.5)\n",
      "Requirement already satisfied: prompt-toolkit!=3.0.37,<3.1.0,>=3.0.30 in ./anaconda3/lib/python3.11/site-packages (from ipython>=6.1.0->ipywidgets) (3.0.36)\n",
      "Requirement already satisfied: pygments>=2.4.0 in ./anaconda3/lib/python3.11/site-packages (from ipython>=6.1.0->ipywidgets) (2.15.1)\n",
      "Requirement already satisfied: stack-data in ./anaconda3/lib/python3.11/site-packages (from ipython>=6.1.0->ipywidgets) (0.2.0)\n",
      "Requirement already satisfied: pexpect>4.3 in ./anaconda3/lib/python3.11/site-packages (from ipython>=6.1.0->ipywidgets) (4.8.0)\n",
      "Requirement already satisfied: six>=1.5 in ./anaconda3/lib/python3.11/site-packages (from python-dateutil>=2.8.1->pandas) (1.16.0)\n",
      "Requirement already satisfied: parso<0.9.0,>=0.8.0 in ./anaconda3/lib/python3.11/site-packages (from jedi>=0.16->ipython>=6.1.0->ipywidgets) (0.8.3)\n",
      "Requirement already satisfied: entrypoints in ./anaconda3/lib/python3.11/site-packages (from jupyter-client>=6.1.12->ipykernel>=4.5.1->ipywidgets) (0.4)\n",
      "Requirement already satisfied: jupyter-core>=4.9.2 in ./anaconda3/lib/python3.11/site-packages (from jupyter-client>=6.1.12->ipykernel>=4.5.1->ipywidgets) (5.3.0)\n",
      "Requirement already satisfied: ptyprocess>=0.5 in ./anaconda3/lib/python3.11/site-packages (from pexpect>4.3->ipython>=6.1.0->ipywidgets) (0.7.0)\n",
      "Requirement already satisfied: wcwidth in ./anaconda3/lib/python3.11/site-packages (from prompt-toolkit!=3.0.37,<3.1.0,>=3.0.30->ipython>=6.1.0->ipywidgets) (0.2.5)\n",
      "Requirement already satisfied: executing in ./anaconda3/lib/python3.11/site-packages (from stack-data->ipython>=6.1.0->ipywidgets) (0.8.3)\n",
      "Requirement already satisfied: asttokens in ./anaconda3/lib/python3.11/site-packages (from stack-data->ipython>=6.1.0->ipywidgets) (2.0.5)\n",
      "Requirement already satisfied: pure-eval in ./anaconda3/lib/python3.11/site-packages (from stack-data->ipython>=6.1.0->ipywidgets) (0.2.2)\n",
      "Requirement already satisfied: platformdirs>=2.5 in ./anaconda3/lib/python3.11/site-packages (from jupyter-core>=4.9.2->jupyter-client>=6.1.12->ipykernel>=4.5.1->ipywidgets) (2.5.2)\n",
      "Note: you may need to restart the kernel to use updated packages.\n"
     ]
    }
   ],
   "source": [
    "pip install pandas ipywidgets"
   ]
  },
  {
   "cell_type": "code",
   "execution_count": 1,
   "id": "a6ca5fee",
   "metadata": {},
   "outputs": [
    {
     "name": "stdout",
     "output_type": "stream",
     "text": [
      "Requirement already satisfied: nbconvert in ./anaconda3/lib/python3.11/site-packages (6.5.4)\n",
      "Requirement already satisfied: lxml in ./anaconda3/lib/python3.11/site-packages (from nbconvert) (4.9.2)\n",
      "Requirement already satisfied: beautifulsoup4 in ./anaconda3/lib/python3.11/site-packages (from nbconvert) (4.12.2)\n",
      "Requirement already satisfied: bleach in ./anaconda3/lib/python3.11/site-packages (from nbconvert) (4.1.0)\n",
      "Requirement already satisfied: defusedxml in ./anaconda3/lib/python3.11/site-packages (from nbconvert) (0.7.1)\n",
      "Requirement already satisfied: entrypoints>=0.2.2 in ./anaconda3/lib/python3.11/site-packages (from nbconvert) (0.4)\n",
      "Requirement already satisfied: jinja2>=3.0 in ./anaconda3/lib/python3.11/site-packages (from nbconvert) (3.1.2)\n",
      "Requirement already satisfied: jupyter-core>=4.7 in ./anaconda3/lib/python3.11/site-packages (from nbconvert) (5.3.0)\n",
      "Requirement already satisfied: jupyterlab-pygments in ./anaconda3/lib/python3.11/site-packages (from nbconvert) (0.1.2)\n",
      "Requirement already satisfied: MarkupSafe>=2.0 in ./anaconda3/lib/python3.11/site-packages (from nbconvert) (2.1.1)\n",
      "Requirement already satisfied: mistune<2,>=0.8.1 in ./anaconda3/lib/python3.11/site-packages (from nbconvert) (0.8.4)\n",
      "Requirement already satisfied: nbclient>=0.5.0 in ./anaconda3/lib/python3.11/site-packages (from nbconvert) (0.5.13)\n",
      "Requirement already satisfied: nbformat>=5.1 in ./anaconda3/lib/python3.11/site-packages (from nbconvert) (5.7.0)\n",
      "Requirement already satisfied: packaging in ./anaconda3/lib/python3.11/site-packages (from nbconvert) (23.0)\n",
      "Requirement already satisfied: pandocfilters>=1.4.1 in ./anaconda3/lib/python3.11/site-packages (from nbconvert) (1.5.0)\n",
      "Requirement already satisfied: pygments>=2.4.1 in ./anaconda3/lib/python3.11/site-packages (from nbconvert) (2.15.1)\n",
      "Requirement already satisfied: tinycss2 in ./anaconda3/lib/python3.11/site-packages (from nbconvert) (1.2.1)\n",
      "Requirement already satisfied: traitlets>=5.0 in ./anaconda3/lib/python3.11/site-packages (from nbconvert) (5.7.1)\n",
      "Requirement already satisfied: platformdirs>=2.5 in ./anaconda3/lib/python3.11/site-packages (from jupyter-core>=4.7->nbconvert) (2.5.2)\n",
      "Requirement already satisfied: jupyter-client>=6.1.5 in ./anaconda3/lib/python3.11/site-packages (from nbclient>=0.5.0->nbconvert) (7.4.9)\n",
      "Requirement already satisfied: nest-asyncio in ./anaconda3/lib/python3.11/site-packages (from nbclient>=0.5.0->nbconvert) (1.5.6)\n",
      "Requirement already satisfied: fastjsonschema in ./anaconda3/lib/python3.11/site-packages (from nbformat>=5.1->nbconvert) (2.16.2)\n",
      "Requirement already satisfied: jsonschema>=2.6 in ./anaconda3/lib/python3.11/site-packages (from nbformat>=5.1->nbconvert) (4.17.3)\n",
      "Requirement already satisfied: soupsieve>1.2 in ./anaconda3/lib/python3.11/site-packages (from beautifulsoup4->nbconvert) (2.4)\n",
      "Requirement already satisfied: six>=1.9.0 in ./anaconda3/lib/python3.11/site-packages (from bleach->nbconvert) (1.16.0)\n",
      "Requirement already satisfied: webencodings in ./anaconda3/lib/python3.11/site-packages (from bleach->nbconvert) (0.5.1)\n",
      "Requirement already satisfied: attrs>=17.4.0 in ./anaconda3/lib/python3.11/site-packages (from jsonschema>=2.6->nbformat>=5.1->nbconvert) (22.1.0)\n",
      "Requirement already satisfied: pyrsistent!=0.17.0,!=0.17.1,!=0.17.2,>=0.14.0 in ./anaconda3/lib/python3.11/site-packages (from jsonschema>=2.6->nbformat>=5.1->nbconvert) (0.18.0)\n",
      "Requirement already satisfied: python-dateutil>=2.8.2 in ./anaconda3/lib/python3.11/site-packages (from jupyter-client>=6.1.5->nbclient>=0.5.0->nbconvert) (2.8.2)\n",
      "Requirement already satisfied: pyzmq>=23.0 in ./anaconda3/lib/python3.11/site-packages (from jupyter-client>=6.1.5->nbclient>=0.5.0->nbconvert) (23.2.0)\n",
      "Requirement already satisfied: tornado>=6.2 in ./anaconda3/lib/python3.11/site-packages (from jupyter-client>=6.1.5->nbclient>=0.5.0->nbconvert) (6.3.2)\n",
      "Note: you may need to restart the kernel to use updated packages.\n"
     ]
    }
   ],
   "source": [
    "pip install nbconvert"
   ]
  },
  {
   "cell_type": "code",
   "execution_count": 1,
   "id": "8498342a",
   "metadata": {
    "scrolled": true
   },
   "outputs": [
    {
     "data": {
      "text/html": [
       "<h3>Subscription Change Options Dashboard</h3>"
      ],
      "text/plain": [
       "<IPython.core.display.HTML object>"
      ]
     },
     "metadata": {},
     "output_type": "display_data"
    },
    {
     "data": {
      "application/vnd.jupyter.widget-view+json": {
       "model_id": "4046ac6c453d41f6a3715b06dc923668",
       "version_major": 2,
       "version_minor": 0
      },
      "text/plain": [
       "interactive(children=(Dropdown(description='Subscription Group (Subscription Type):', layout=Layout(margin='10…"
      ]
     },
     "metadata": {},
     "output_type": "display_data"
    },
    {
     "data": {
      "application/vnd.jupyter.widget-view+json": {
       "model_id": "272e24c89d7a4c7ab5a76c9cd2fb2957",
       "version_major": 2,
       "version_minor": 0
      },
      "text/plain": [
       "interactive(children=(Dropdown(description='Subscription Group (Payment Type):', layout=Layout(margin='10px 0p…"
      ]
     },
     "metadata": {},
     "output_type": "display_data"
    }
   ],
   "source": [
    "import pandas as pd\n",
    "import ipywidgets as widgets\n",
    "from IPython.display import display, HTML\n",
    "\n",
    "# Define the matrix data with the correct upgrade/downgrade logic\n",
    "matrix_data = {\n",
    "    \"Current Plan\": [\"Gold - 12M\", \"Gold - 1M\", \"Silver - 12M\", \"Silver - 1M\", \"Free\"],\n",
    "    \"Gold - 12M\": [\"NA\", \"Downgrade\", \"Downgrade\", \"Downgrade\", \"Downgrade\"],\n",
    "    \"Gold - 1M\": [\"Upgrade\", \"NA\", \"Downgrade\", \"Downgrade\", \"Downgrade\"],\n",
    "    \"Silver - 12M\": [\"Upgrade\", \"Upgrade\", \"NA\", \"Downgrade\", \"Downgrade\"],\n",
    "    \"Silver - 1M\": [\"Upgrade\", \"Upgrade\", \"Upgrade\", \"NA\", \"Downgrade\"],\n",
    "    \"Free\": [\"Upgrade\", \"Upgrade\", \"Upgrade\", \"Upgrade\", \"NA\"],\n",
    "}\n",
    "\n",
    "second_matrix_data = {\n",
    "    \"Subscription Type\": [\"Gold - 12M\", \"Gold - 1M\", \"Silver - 12M\", \"Silver - 1M\"],\n",
    "    \"Gold - 12M\": [\"NA\", \"Downgrade\", \"Crossgrade\", \"Downgrade\"],\n",
    "    \"Gold - 1M\": [\"Upgrade\", \"NA\", \"NA\", \"Crossgrade\"],\n",
    "    \"Silver - 12M\": [\"Crossgrade\", \"Upgrade\", \"NA\", \"Downgrade\"],\n",
    "    \"Silver - 1M\": [\"Upgrade\", \"Crossgrade\", \"Upgrade\", \"NA\"],\n",
    "}\n",
    "\n",
    "# Create DataFrames\n",
    "matrix_df = pd.DataFrame(matrix_data)\n",
    "second_matrix_df = pd.DataFrame(second_matrix_data)\n",
    "\n",
    "# Define a color mapping for each plan\n",
    "plan_colors = {\n",
    "    \"Gold - 12M\": \"#DAA520\",  # Gold color\n",
    "    \"Gold - 1M\": \"#DAA520\",  # Goldenrod\n",
    "    \"Silver - 12M\": \"#A9A9A9\",  # Silver\n",
    "    \"Silver - 1M\": \"#A9A9A9\",  # Light steel blue\n",
    "    \"Free\": \"#3CB371\",  # Light green for free\n",
    "}\n",
    "\n",
    "# Dropdown widgets for each matrix\n",
    "current_plan_dropdown = widgets.Dropdown(\n",
    "    options=matrix_data[\"Current Plan\"],\n",
    "    description=\"Subscription Group (Subscription Type):\",\n",
    "    disabled=False,\n",
    "    style={'description_width': 'initial'},\n",
    "    layout=widgets.Layout(width='auto', margin='10px 0px')\n",
    ")\n",
    "\n",
    "second_plan_dropdown = widgets.Dropdown(\n",
    "    options=second_matrix_data[\"Subscription Type\"],\n",
    "    description=\"Subscription Group (Payment Type):\",\n",
    "    disabled=False,\n",
    "    style={'description_width': 'initial'},\n",
    "    layout=widgets.Layout(width='auto', margin='10px 0px')\n",
    ")\n",
    "\n",
    "# Function to display matrix 1 options\n",
    "def display_matrix1_options(selected_plan):\n",
    "    plan_index = matrix_data[\"Current Plan\"].index(selected_plan)\n",
    "    upgrade_options = []\n",
    "    downgrade_options = []\n",
    "    \n",
    "    for col in matrix_df.columns[1:]:\n",
    "        plan_color = plan_colors[col]\n",
    "        if matrix_df.at[plan_index, col] == \"Downgrade\":\n",
    "            upgrade_options.append(f\"<span style='color: {plan_color}; font-weight: bold;'>{col}</span>\")\n",
    "        elif matrix_df.at[plan_index, col] == \"Upgrade\":\n",
    "            downgrade_options.append(f\"<span style='color: {plan_color}; font-weight: bold;'>{col}</span>\")\n",
    "    \n",
    "    downgrade_message = (\n",
    "        f\"<b style='color: red;'>Downgrade Options:</b> \"\n",
    "        f\"{', '.join(downgrade_options) if downgrade_options else 'None'}\"\n",
    "    )\n",
    "    upgrade_message = (\n",
    "        f\"<b style='color: green;'>Upgrade Options:</b> \"\n",
    "        f\"{', '.join(upgrade_options) if upgrade_options else 'None'}\"\n",
    "    )\n",
    "    \n",
    "    display(HTML(f\"<div style='font-size: 14px; margin-top: 10px;'>{downgrade_message}<br>{upgrade_message}</div>\"))\n",
    "\n",
    "# Function to display matrix 2 options\n",
    "def display_matrix2_options(selected_plan):\n",
    "    plan_index = second_matrix_data[\"Subscription Type\"].index(selected_plan)\n",
    "    upgrade_options = []\n",
    "    downgrade_options = []\n",
    "    crossgrade_options = []\n",
    "    \n",
    "    for col in second_matrix_df.columns[1:]:\n",
    "        plan_color = plan_colors[col]\n",
    "        if second_matrix_df.at[plan_index, col] == \"Downgrade\":\n",
    "            upgrade_options.append(f\"<span style='color: {plan_color}; font-weight: bold;'>{col}</span>\")\n",
    "        elif second_matrix_df.at[plan_index, col] == \"Upgrade\":\n",
    "            downgrade_options.append(f\"<span style='color: {plan_color}; font-weight: bold;'>{col}</span>\")\n",
    "        elif second_matrix_df.at[plan_index, col] == \"Crossgrade\":\n",
    "            crossgrade_options.append(f\"<span style='color: {plan_color}; font-weight: bold;'>{col}</span>\")\n",
    "    \n",
    "    downgrade_message = (\n",
    "        f\"<b style='color: #DC143C;'>Downgrade Options:</b> \"\n",
    "        f\"{', '.join(downgrade_options) if downgrade_options else 'None'}\"\n",
    "    )\n",
    "    upgrade_message = (\n",
    "        f\"<b style='color: #228B22;'>Upgrade Options:</b> \"\n",
    "        f\"{', '.join(upgrade_options) if upgrade_options else 'None'}\"\n",
    "    )\n",
    "    crossgrade_message = (\n",
    "        f\"<b style='color: blue;'>Crossgrade Options:</b> \"\n",
    "        f\"{', '.join(crossgrade_options) if crossgrade_options else 'None'}\"\n",
    "    )\n",
    "    \n",
    "    display(HTML(f\"<div style='font-size: 14px; margin-top: 10px;'>{downgrade_message}<br>{upgrade_message}<br>{crossgrade_message}</div>\"))\n",
    "\n",
    "# Interactive widgets for each matrix\n",
    "interactive_matrix1 = widgets.interactive(display_matrix1_options, selected_plan=current_plan_dropdown)\n",
    "interactive_matrix2 = widgets.interactive(display_matrix2_options, selected_plan=second_plan_dropdown)\n",
    "\n",
    "# Display the dashboard\n",
    "display(HTML(\"<h3>Subscription Change Options Dashboard</h3>\"))\n",
    "display(interactive_matrix1)\n",
    "display(interactive_matrix2)\n"
   ]
  },
  {
   "cell_type": "code",
   "execution_count": null,
   "id": "a9a79bdc",
   "metadata": {},
   "outputs": [],
   "source": []
  }
 ],
 "metadata": {
  "kernelspec": {
   "display_name": "Python 3 (ipykernel)",
   "language": "python",
   "name": "python3"
  },
  "language_info": {
   "codemirror_mode": {
    "name": "ipython",
    "version": 3
   },
   "file_extension": ".py",
   "mimetype": "text/x-python",
   "name": "python",
   "nbconvert_exporter": "python",
   "pygments_lexer": "ipython3",
   "version": "3.11.4"
  }
 },
 "nbformat": 4,
 "nbformat_minor": 5
}
